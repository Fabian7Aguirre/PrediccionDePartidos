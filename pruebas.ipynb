{
 "cells": [
  {
   "cell_type": "code",
   "execution_count": 1,
   "metadata": {},
   "outputs": [],
   "source": [
    "import pandas as pd\n",
    "import os\n",
    "import pickle\n",
    "from datetime import date\n",
    "from busqueda_de_datos.obtencion_data_historica_dos_equipos import obtencion_data_historica_dos_equipos\n",
    "from acomodo_de_datos.limpieza_data_historica_dos_equipos import limpieza_data_historica_dos_equipos\n",
    "from analisis_de_datos.obtencion_porcentajes_casa import lanzar_puntuación_general_casa\n",
    "from analisis_de_datos.obtencion_porcentajes_visita import lanzar_puntuación_general_visita"
   ]
  },
  {
   "cell_type": "code",
   "execution_count": 2,
   "metadata": {},
   "outputs": [],
   "source": [
    "# Fecha\n",
    "hoy = date.today()\n",
    "\n",
    "agnos = 2024, 2023, 2022"
   ]
  },
  {
   "cell_type": "code",
   "execution_count": 3,
   "metadata": {},
   "outputs": [
    {
     "name": "stdout",
     "output_type": "stream",
     "text": [
      "Procesando equipo Home: 1/2: America\n",
      "Estas son todas las temporadas a imprimir: 3\n",
      "HOLAAA:       Año             Fecha           Home Resultado                  Away\n",
      "0    2024  Dom., 29 de Sep.        América     0 - 1            Pumas UNAM\n",
      "1    2024  Mié., 25 de Sep.  Columbus Crew     1 - 1               América\n",
      "2    2024  Sáb., 21 de Sep.         Necaxa     1 - 1               América\n",
      "3    2024  Mar., 17 de Sep.        América     3 - 0                 Atlas\n",
      "4    2024  Sáb., 14 de Sep.        América     1 - 0           Guadalajara\n",
      "..    ...               ...            ...       ...                   ...\n",
      "138  2022  Mié., 16 de Feb.    Mazatlán FC     2 - 1               América\n",
      "139  2022  Sáb., 12 de Feb.         Santos     2 - 3               América\n",
      "140  2022   Sáb., 5 de Feb.        América     2 - 3  Atlético de San Luis\n",
      "141  2022  Sáb., 22 de Ene.        América     0 - 2                 Atlas\n",
      "142  2022   Vie., 7 de Ene.         Puebla     1 - 1               América\n",
      "\n",
      "[143 rows x 5 columns]\n",
      "Procesando equipo Home: 2/2: Monterrey\n",
      "Estas son todas las temporadas a imprimir: 3\n",
      "HOLAAA:       Año             Fecha         Home Resultado                  Away\n",
      "0    2024  Sáb., 28 de Sep.  Guadalajara     1 - 1             Monterrey\n",
      "1    2024  Sáb., 21 de Sep.    Monterrey     0 - 0           Mazatlán FC\n",
      "2    2024  Mié., 18 de Sep.    Monterrey     3 - 2             FC Juarez\n",
      "3    2024  Sáb., 14 de Sep.       Santos     0 - 2             Monterrey\n",
      "4    2024  Sáb., 31 de Ago.    Monterrey     1 - 2                Toluca\n",
      "..    ...               ...          ...       ...                   ...\n",
      "125  2022  Sáb., 26 de Feb.    Monterrey     0 - 2  Atlético de San Luis\n",
      "126  2022  Vie., 18 de Feb.       Puebla     1 - 0             Monterrey\n",
      "127  2022  Sáb., 22 de Ene.    Monterrey     2 - 2             Cruz Azul\n",
      "128  2022  Vie., 14 de Ene.       Necaxa     0 - 4             Monterrey\n",
      "129  2022   Sáb., 8 de Ene.    Monterrey     0 - 0             Querétaro\n",
      "\n",
      "[130 rows x 5 columns]\n"
     ]
    },
    {
     "data": {
      "text/html": [
       "<div>\n",
       "<style scoped>\n",
       "    .dataframe tbody tr th:only-of-type {\n",
       "        vertical-align: middle;\n",
       "    }\n",
       "\n",
       "    .dataframe tbody tr th {\n",
       "        vertical-align: top;\n",
       "    }\n",
       "\n",
       "    .dataframe thead th {\n",
       "        text-align: right;\n",
       "    }\n",
       "</style>\n",
       "<table border=\"1\" class=\"dataframe\">\n",
       "  <thead>\n",
       "    <tr style=\"text-align: right;\">\n",
       "      <th></th>\n",
       "      <th>Año</th>\n",
       "      <th>Fecha</th>\n",
       "      <th>Home</th>\n",
       "      <th>Resultado</th>\n",
       "      <th>Away</th>\n",
       "    </tr>\n",
       "  </thead>\n",
       "  <tbody>\n",
       "    <tr>\n",
       "      <th>0</th>\n",
       "      <td>2024</td>\n",
       "      <td>Dom., 29 de Sep.</td>\n",
       "      <td>América</td>\n",
       "      <td>0 - 1</td>\n",
       "      <td>Pumas UNAM</td>\n",
       "    </tr>\n",
       "    <tr>\n",
       "      <th>1</th>\n",
       "      <td>2024</td>\n",
       "      <td>Mié., 25 de Sep.</td>\n",
       "      <td>Columbus Crew</td>\n",
       "      <td>1 - 1</td>\n",
       "      <td>América</td>\n",
       "    </tr>\n",
       "    <tr>\n",
       "      <th>2</th>\n",
       "      <td>2024</td>\n",
       "      <td>Sáb., 21 de Sep.</td>\n",
       "      <td>Necaxa</td>\n",
       "      <td>1 - 1</td>\n",
       "      <td>América</td>\n",
       "    </tr>\n",
       "    <tr>\n",
       "      <th>3</th>\n",
       "      <td>2024</td>\n",
       "      <td>Mar., 17 de Sep.</td>\n",
       "      <td>América</td>\n",
       "      <td>3 - 0</td>\n",
       "      <td>Atlas</td>\n",
       "    </tr>\n",
       "    <tr>\n",
       "      <th>4</th>\n",
       "      <td>2024</td>\n",
       "      <td>Sáb., 14 de Sep.</td>\n",
       "      <td>América</td>\n",
       "      <td>1 - 0</td>\n",
       "      <td>Guadalajara</td>\n",
       "    </tr>\n",
       "    <tr>\n",
       "      <th>...</th>\n",
       "      <td>...</td>\n",
       "      <td>...</td>\n",
       "      <td>...</td>\n",
       "      <td>...</td>\n",
       "      <td>...</td>\n",
       "    </tr>\n",
       "    <tr>\n",
       "      <th>268</th>\n",
       "      <td>2022</td>\n",
       "      <td>Sáb., 26 de Feb.</td>\n",
       "      <td>Monterrey</td>\n",
       "      <td>0 - 2</td>\n",
       "      <td>Atlético de San Luis</td>\n",
       "    </tr>\n",
       "    <tr>\n",
       "      <th>269</th>\n",
       "      <td>2022</td>\n",
       "      <td>Vie., 18 de Feb.</td>\n",
       "      <td>Puebla</td>\n",
       "      <td>1 - 0</td>\n",
       "      <td>Monterrey</td>\n",
       "    </tr>\n",
       "    <tr>\n",
       "      <th>270</th>\n",
       "      <td>2022</td>\n",
       "      <td>Sáb., 22 de Ene.</td>\n",
       "      <td>Monterrey</td>\n",
       "      <td>2 - 2</td>\n",
       "      <td>Cruz Azul</td>\n",
       "    </tr>\n",
       "    <tr>\n",
       "      <th>271</th>\n",
       "      <td>2022</td>\n",
       "      <td>Vie., 14 de Ene.</td>\n",
       "      <td>Necaxa</td>\n",
       "      <td>0 - 4</td>\n",
       "      <td>Monterrey</td>\n",
       "    </tr>\n",
       "    <tr>\n",
       "      <th>272</th>\n",
       "      <td>2022</td>\n",
       "      <td>Sáb., 8 de Ene.</td>\n",
       "      <td>Monterrey</td>\n",
       "      <td>0 - 0</td>\n",
       "      <td>Querétaro</td>\n",
       "    </tr>\n",
       "  </tbody>\n",
       "</table>\n",
       "<p>273 rows × 5 columns</p>\n",
       "</div>"
      ],
      "text/plain": [
       "      Año             Fecha           Home Resultado                  Away\n",
       "0    2024  Dom., 29 de Sep.        América     0 - 1            Pumas UNAM\n",
       "1    2024  Mié., 25 de Sep.  Columbus Crew     1 - 1               América\n",
       "2    2024  Sáb., 21 de Sep.         Necaxa     1 - 1               América\n",
       "3    2024  Mar., 17 de Sep.        América     3 - 0                 Atlas\n",
       "4    2024  Sáb., 14 de Sep.        América     1 - 0           Guadalajara\n",
       "..    ...               ...            ...       ...                   ...\n",
       "268  2022  Sáb., 26 de Feb.      Monterrey     0 - 2  Atlético de San Luis\n",
       "269  2022  Vie., 18 de Feb.         Puebla     1 - 0             Monterrey\n",
       "270  2022  Sáb., 22 de Ene.      Monterrey     2 - 2             Cruz Azul\n",
       "271  2022  Vie., 14 de Ene.         Necaxa     0 - 4             Monterrey\n",
       "272  2022   Sáb., 8 de Ene.      Monterrey     0 - 0             Querétaro\n",
       "\n",
       "[273 rows x 5 columns]"
      ]
     },
     "execution_count": 3,
     "metadata": {},
     "output_type": "execute_result"
    }
   ],
   "source": [
    "resultado = obtencion_data_historica_dos_equipos('America', 'Monterrey', [2024, 2023, 2022])\n",
    "resultado"
   ]
  },
  {
   "cell_type": "code",
   "execution_count": 2,
   "metadata": {},
   "outputs": [],
   "source": [
    "def resultados(casa, visita, *agnos):\n",
    "\n",
    "\n",
    "    # Consultamos data historica de ambos equipos y obtenemos un dataframe\n",
    "    # Esta función genera un archivo csv\n",
    "    df_equipos = obtencion_data_historica_dos_equipos(casa, visita, agnos)\n",
    "\n",
    "    # Limpiamos dataframe y lo guarda en un nuevo csv\n",
    "    limpieza_data_historica_dos_equipos()\n",
    "\n",
    "    # Hacemos analisis de ambos equipos con la información obtenida\n",
    "    conclucion_casa = lanzar_puntuación_general_casa(casa)\n",
    "    conclucion_visita = lanzar_puntuación_general_visita(visita)\n",
    "\n",
    "\n",
    "    '''# Obtenemos toda la ifnormación que nos retornaron lanzar_puntuación_general_casa y lanzar_puntuación_general_visita\n",
    "    dict_analisis_casa = conclucion_casa\n",
    "    dict_analisis_visita = conclucion_visita'''\n",
    "\n",
    "    # Los convertimos en DF\n",
    "    df_analisis_casa = pd.DataFrame(conclucion_casa)\n",
    "    df_analisis_visita = pd.DataFrame(conclucion_visita)\n",
    "\n",
    "    return df_analisis_casa, df_analisis_visita"
   ]
  },
  {
   "cell_type": "code",
   "execution_count": 4,
   "metadata": {},
   "outputs": [
    {
     "name": "stdout",
     "output_type": "stream",
     "text": [
      "Procesando equipo Home: 1/2: Leganés\n",
      "Estas son todas las temporadas a imprimir: 1\n",
      "Procesando equipo Home: 2/2: Valencia\n",
      "Estas son todas las temporadas a imprimir: 1\n"
     ]
    }
   ],
   "source": [
    "df_analisis_casa, df_analisis_visita = resultados('Leganés', 'Valencia')"
   ]
  },
  {
   "cell_type": "code",
   "execution_count": 7,
   "metadata": {},
   "outputs": [
    {
     "data": {
      "text/html": [
       "<div>\n",
       "<style scoped>\n",
       "    .dataframe tbody tr th:only-of-type {\n",
       "        vertical-align: middle;\n",
       "    }\n",
       "\n",
       "    .dataframe tbody tr th {\n",
       "        vertical-align: top;\n",
       "    }\n",
       "\n",
       "    .dataframe thead th {\n",
       "        text-align: right;\n",
       "    }\n",
       "</style>\n",
       "<table border=\"1\" class=\"dataframe\">\n",
       "  <thead>\n",
       "    <tr style=\"text-align: right;\">\n",
       "      <th></th>\n",
       "      <th>Equipo</th>\n",
       "      <th>% Victorias en Visita</th>\n",
       "      <th>x̅ + Goles en Visita</th>\n",
       "      <th>x̅ -Goles en Visita</th>\n",
       "      <th>Diferencia en Visita +/- G</th>\n",
       "      <th>Puntuacion General %</th>\n",
       "    </tr>\n",
       "  </thead>\n",
       "  <tbody>\n",
       "    <tr>\n",
       "      <th>0</th>\n",
       "      <td>Valencia</td>\n",
       "      <td>0.0</td>\n",
       "      <td>0.4</td>\n",
       "      <td>2.4</td>\n",
       "      <td>-10.0</td>\n",
       "      <td>25.0</td>\n",
       "    </tr>\n",
       "    <tr>\n",
       "      <th>1</th>\n",
       "      <td>Valencia</td>\n",
       "      <td>Pobre</td>\n",
       "      <td>Pobre</td>\n",
       "      <td>Pobre</td>\n",
       "      <td>Pobre</td>\n",
       "      <td>Pobre</td>\n",
       "    </tr>\n",
       "    <tr>\n",
       "      <th>2</th>\n",
       "      <td>Valencia</td>\n",
       "      <td>1</td>\n",
       "      <td>1</td>\n",
       "      <td>1</td>\n",
       "      <td>1</td>\n",
       "      <td>1</td>\n",
       "    </tr>\n",
       "  </tbody>\n",
       "</table>\n",
       "</div>"
      ],
      "text/plain": [
       "     Equipo % Victorias en Visita x̅ + Goles en Visita x̅ -Goles en Visita  \\\n",
       "0  Valencia                   0.0                  0.4                 2.4   \n",
       "1  Valencia                 Pobre                Pobre               Pobre   \n",
       "2  Valencia                     1                    1                   1   \n",
       "\n",
       "  Diferencia en Visita +/- G Puntuacion General %  \n",
       "0                      -10.0                 25.0  \n",
       "1                      Pobre                Pobre  \n",
       "2                          1                    1  "
      ]
     },
     "execution_count": 7,
     "metadata": {},
     "output_type": "execute_result"
    }
   ],
   "source": [
    "df_analisis_visita"
   ]
  },
  {
   "cell_type": "code",
   "execution_count": 9,
   "metadata": {},
   "outputs": [
    {
     "data": {
      "text/plain": [
       "38.75"
      ]
     },
     "execution_count": 9,
     "metadata": {},
     "output_type": "execute_result"
    }
   ],
   "source": [
    "df_analisis_casa['Puntuacion General %'][0]"
   ]
  },
  {
   "cell_type": "code",
   "execution_count": 20,
   "metadata": {},
   "outputs": [],
   "source": [
    "def posible_ganador(df_analisis_casa, df_analisis_visita):\n",
    "    if df_analisis_casa['Puntuacion General %'][0] > df_analisis_visita['Puntuacion General %'][0]:\n",
    "        ganador = df_analisis_casa['Equipo'][0]\n",
    "        porcentaje = df_analisis_casa['Puntuacion General %'][0] - df_analisis_visita['Puntuacion General %'][0]\n",
    "    elif df_analisis_visita['Puntuacion General %'][0] > df_analisis_casa['Puntuacion General %'][0]:\n",
    "        ganador = df_analisis_visita['Equipo'][0]\n",
    "        porcentaje = df_analisis_visita['Puntuacion General %'][0] - df_analisis_casa['Puntuacion General %'][0]\n",
    "    else:\n",
    "        ganador = 'Empate'\n",
    "        porcentaje = 0\n",
    "\n",
    "    df_diferencia = {\n",
    "        'Equipo': [ganador],\n",
    "        'A favor': [porcentaje]\n",
    "    }\n",
    "\n",
    "    df_diferencia = pd.DataFrame(df_diferencia)\n",
    "\n",
    "    return df_diferencia"
   ]
  },
  {
   "cell_type": "code",
   "execution_count": 19,
   "metadata": {},
   "outputs": [
    {
     "data": {
      "text/html": [
       "<div>\n",
       "<style scoped>\n",
       "    .dataframe tbody tr th:only-of-type {\n",
       "        vertical-align: middle;\n",
       "    }\n",
       "\n",
       "    .dataframe tbody tr th {\n",
       "        vertical-align: top;\n",
       "    }\n",
       "\n",
       "    .dataframe thead th {\n",
       "        text-align: right;\n",
       "    }\n",
       "</style>\n",
       "<table border=\"1\" class=\"dataframe\">\n",
       "  <thead>\n",
       "    <tr style=\"text-align: right;\">\n",
       "      <th></th>\n",
       "      <th>Equipo</th>\n",
       "      <th>A favor</th>\n",
       "    </tr>\n",
       "  </thead>\n",
       "  <tbody>\n",
       "    <tr>\n",
       "      <th>0</th>\n",
       "      <td>Leganés</td>\n",
       "      <td>13.75</td>\n",
       "    </tr>\n",
       "  </tbody>\n",
       "</table>\n",
       "</div>"
      ],
      "text/plain": [
       "    Equipo  A favor\n",
       "0  Leganés    13.75"
      ]
     },
     "execution_count": 19,
     "metadata": {},
     "output_type": "execute_result"
    }
   ],
   "source": [
    "posible_ganador(df_analisis_casa, df_analisis_visita)"
   ]
  },
  {
   "cell_type": "code",
   "execution_count": 6,
   "metadata": {},
   "outputs": [
    {
     "ename": "EOFError",
     "evalue": "Ran out of input",
     "output_type": "error",
     "traceback": [
      "\u001b[1;31m---------------------------------------------------------------------------\u001b[0m",
      "\u001b[1;31mEOFError\u001b[0m                                  Traceback (most recent call last)",
      "Cell \u001b[1;32mIn[6], line 3\u001b[0m\n\u001b[0;32m      1\u001b[0m \u001b[38;5;28;01mimport\u001b[39;00m \u001b[38;5;21;01mpickle\u001b[39;00m\n\u001b[0;32m      2\u001b[0m \u001b[38;5;28;01mwith\u001b[39;00m \u001b[38;5;28mopen\u001b[39m(\u001b[38;5;124m'\u001b[39m\u001b[38;5;124mdict_versus_Liga_MX\u001b[39m\u001b[38;5;124m'\u001b[39m, \u001b[38;5;124m'\u001b[39m\u001b[38;5;124mrb\u001b[39m\u001b[38;5;124m'\u001b[39m) \u001b[38;5;28;01mas\u001b[39;00m archivo:\n\u001b[1;32m----> 3\u001b[0m     dict_versus_Liga_MX \u001b[38;5;241m=\u001b[39m \u001b[43mpickle\u001b[49m\u001b[38;5;241;43m.\u001b[39;49m\u001b[43mload\u001b[49m\u001b[43m(\u001b[49m\u001b[43marchivo\u001b[49m\u001b[43m)\u001b[49m\n\u001b[0;32m      5\u001b[0m dict_versus_Liga_MX\n",
      "\u001b[1;31mEOFError\u001b[0m: Ran out of input"
     ]
    }
   ],
   "source": [
    "import pickle\n",
    "with open('dict_versus_Liga_MX', 'rb') as archivo:\n",
    "    dict_versus_Liga_MX = pickle.load(archivo)\n",
    "\n",
    "dict_versus_Liga_MX"
   ]
  }
 ],
 "metadata": {
  "kernelspec": {
   "display_name": "Python 3",
   "language": "python",
   "name": "python3"
  },
  "language_info": {
   "codemirror_mode": {
    "name": "ipython",
    "version": 3
   },
   "file_extension": ".py",
   "mimetype": "text/x-python",
   "name": "python",
   "nbconvert_exporter": "python",
   "pygments_lexer": "ipython3",
   "version": "3.12.5"
  }
 },
 "nbformat": 4,
 "nbformat_minor": 2
}
