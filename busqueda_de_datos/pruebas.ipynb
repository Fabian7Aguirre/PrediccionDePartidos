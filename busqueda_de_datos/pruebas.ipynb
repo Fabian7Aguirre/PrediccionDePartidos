{
 "cells": [
  {
   "cell_type": "code",
   "execution_count": 16,
   "metadata": {},
   "outputs": [
    {
     "ename": "ModuleNotFoundError",
     "evalue": "No module named 'busqueda_de_datos'",
     "output_type": "error",
     "traceback": [
      "\u001b[1;31m---------------------------------------------------------------------------\u001b[0m",
      "\u001b[1;31mModuleNotFoundError\u001b[0m                       Traceback (most recent call last)",
      "Cell \u001b[1;32mIn[16], line 1\u001b[0m\n\u001b[1;32m----> 1\u001b[0m \u001b[38;5;28;01mfrom\u001b[39;00m \u001b[38;5;21;01mbusqueda_de_datos\u001b[39;00m\u001b[38;5;21;01m.\u001b[39;00m\u001b[38;5;21;01mbusqueda_datos_espn\u001b[39;00m \u001b[38;5;28;01mimport\u001b[39;00m entrar_a_pag_resultados\n\u001b[0;32m      2\u001b[0m \u001b[38;5;28;01mimport\u001b[39;00m \u001b[38;5;21;01mpandas\u001b[39;00m \u001b[38;5;28;01mas\u001b[39;00m \u001b[38;5;21;01mpd\u001b[39;00m\n",
      "\u001b[1;31mModuleNotFoundError\u001b[0m: No module named 'busqueda_de_datos'"
     ]
    }
   ],
   "source": [
    "from busqueda_de_datos.busqueda_datos_espn import entrar_a_pag_resultados\n",
    "import pandas as pd"
   ]
  },
  {
   "cell_type": "code",
   "execution_count": 7,
   "metadata": {},
   "outputs": [],
   "source": [
    "def obtencion_data_historica_dos_equipos(equipo_home, equipo_away):\n",
    "    equipos = [equipo_home,equipo_away]\n",
    "    df_equipos = []\n",
    "    for contador, equipo in enumerate(equipos):\n",
    "            bandera = True\n",
    "            print(f'Procesando equipo Home: {contador + 1}/{len(equipos)}: {equipo}')\n",
    "            resultado = entrar_a_pag_resultados(equipo, bandera)\n",
    "            if resultado is not None:\n",
    "                df_equipos.append(resultado)\n",
    "            bandera = False\n",
    "            resultado = entrar_a_pag_resultados(equipo, bandera)\n",
    "            if resultado is not None:\n",
    "                df_equipos.append(resultado)\n",
    "    \n",
    "    #driver_quit()\n",
    "\n",
    "    df_equipos = pd.concat(df_equipos, ignore_index=True)\n",
    "    df_equipos.to_csv('data_historica_versus.csv', index=False)\n",
    "    return df_equipos"
   ]
  },
  {
   "cell_type": "code",
   "execution_count": 15,
   "metadata": {},
   "outputs": [
    {
     "name": "stdout",
     "output_type": "stream",
     "text": [
      "Error al cargar la pagina o interactuar con el WebDriver: Message: disconnected: not connected to DevTools\n",
      "  (failed to check if window was closed: disconnected: not connected to DevTools)\n",
      "  (Session info: chrome=128.0.6613.138)\n",
      "Stacktrace:\n",
      "\tGetHandleVerifier [0x00007FF69D2A9642+30946]\n",
      "\t(No symbol) [0x00007FF69D25E3D9]\n",
      "\t(No symbol) [0x00007FF69D156FDA]\n",
      "\t(No symbol) [0x00007FF69D13EA4C]\n",
      "\t(No symbol) [0x00007FF69D13E910]\n",
      "\t(No symbol) [0x00007FF69D1598C1]\n",
      "\t(No symbol) [0x00007FF69D1EA799]\n",
      "\t(No symbol) [0x00007FF69D1CC813]\n",
      "\t(No symbol) [0x00007FF69D19A6E5]\n",
      "\t(No symbol) [0x00007FF69D19B021]\n",
      "\tGetHandleVerifier [0x00007FF69D3DF84D+1301229]\n",
      "\tGetHandleVerifier [0x00007FF69D3EBDC7+1351783]\n",
      "\tGetHandleVerifier [0x00007FF69D3E2A13+1313971]\n",
      "\tGetHandleVerifier [0x00007FF69D2DDD16+245686]\n",
      "\t(No symbol) [0x00007FF69D26759F]\n",
      "\t(No symbol) [0x00007FF69D263814]\n",
      "\t(No symbol) [0x00007FF69D2639A2]\n",
      "\t(No symbol) [0x00007FF69D25A3FF]\n",
      "\tBaseThreadInitThunk [0x00007FFD0CD7257D+29]\n",
      "\tRtlUserThreadStart [0x00007FFD0E6EAF28+40]\n",
      "\n"
     ]
    }
   ],
   "source": [
    "df_prueba = entrar_a_pag_resultados('America', True)\n",
    "df_prueba"
   ]
  },
  {
   "cell_type": "code",
   "execution_count": 6,
   "metadata": {},
   "outputs": [
    {
     "data": {
      "text/plain": [
       "2024"
      ]
     },
     "execution_count": 6,
     "metadata": {},
     "output_type": "execute_result"
    }
   ],
   "source": [
    "import datetime\n",
    "datetime.date.today().year"
   ]
  },
  {
   "cell_type": "code",
   "execution_count": 7,
   "metadata": {},
   "outputs": [],
   "source": [
    "def cambiar_agno_url(agno, url):\n",
    "    \"\"\"\n",
    "        Modifica la URL actual para incluir el año o temporada deseada.\n",
    "    \"\"\"\n",
    "    partes = url.split('/')\n",
    "    partes[-1] = 'temporada'\n",
    "    partes.append(agno)\n",
    "    return '/'.join(partes)"
   ]
  },
  {
   "cell_type": "code",
   "execution_count": 9,
   "metadata": {},
   "outputs": [
    {
     "data": {
      "text/plain": [
       "'https://www.espn.com.mx/futbol/equipo/resultados/_/id/227/temporada/2024'"
      ]
     },
     "execution_count": 9,
     "metadata": {},
     "output_type": "execute_result"
    }
   ],
   "source": [
    "cambiar_agno_url('2024', 'https://www.espn.com.mx/futbol/equipo/resultados/_/id/227/mex.america')"
   ]
  },
  {
   "cell_type": "code",
   "execution_count": 10,
   "metadata": {},
   "outputs": [],
   "source": [
    "def cambiar_ultimo_segmento(url, nuevo_segmento):\n",
    "    # Encuentra la posición del último slash\n",
    "    posicion_ultimo_slash = url.rfind('/')\n",
    "    \n",
    "    # Si no hay slash, devuelve la URL original\n",
    "    if posicion_ultimo_slash == -1:\n",
    "        return url\n",
    "    \n",
    "    # Construye la nueva URL con el nuevo segmento\n",
    "    nueva_url = url[:posicion_ultimo_slash + 1] + nuevo_segmento\n",
    "    return nueva_url"
   ]
  },
  {
   "cell_type": "code",
   "execution_count": 12,
   "metadata": {},
   "outputs": [
    {
     "data": {
      "text/plain": [
       "'https://www.espn.com.mx/futbol/equipo/resultados/_/id/227/temporada/2022'"
      ]
     },
     "execution_count": 12,
     "metadata": {},
     "output_type": "execute_result"
    }
   ],
   "source": [
    "cambiar_ultimo_segmento('https://www.espn.com.mx/futbol/equipo/resultados/_/id/227/temporada/2024', '2022')"
   ]
  }
 ],
 "metadata": {
  "kernelspec": {
   "display_name": "Python 3",
   "language": "python",
   "name": "python3"
  },
  "language_info": {
   "codemirror_mode": {
    "name": "ipython",
    "version": 3
   },
   "file_extension": ".py",
   "mimetype": "text/x-python",
   "name": "python",
   "nbconvert_exporter": "python",
   "pygments_lexer": "ipython3",
   "version": "3.12.5"
  }
 },
 "nbformat": 4,
 "nbformat_minor": 2
}
